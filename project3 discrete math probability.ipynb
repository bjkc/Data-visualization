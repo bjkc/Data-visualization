{
  "nbformat": 4,
  "nbformat_minor": 0,
  "metadata": {
    "colab": {
      "name": "Untitled10.ipynb",
      "provenance": [],
      "authorship_tag": "ABX9TyPN+lnrZvHPv1mMT7id+6U3",
      "include_colab_link": true
    },
    "kernelspec": {
      "name": "python3",
      "display_name": "Python 3"
    },
    "language_info": {
      "name": "python"
    }
  },
  "cells": [
    {
      "cell_type": "markdown",
      "metadata": {
        "id": "view-in-github",
        "colab_type": "text"
      },
      "source": [
        "<a href=\"https://colab.research.google.com/github/bjkc/Data-visualization/blob/main/project3%20discrete%20math%20probability.ipynb\" target=\"_parent\"><img src=\"https://colab.research.google.com/assets/colab-badge.svg\" alt=\"Open In Colab\"/></a>"
      ]
    },
    {
      "cell_type": "markdown",
      "source": [
        "#project3 probbability\n",
        "bijay raj kc\n",
        "\n",
        "discrete mathmatics\n"
      ],
      "metadata": {
        "id": "YGNutuS8mciv"
      }
    },
    {
      "cell_type": "markdown",
      "source": [
        "For this project i will be using playing cards.And i will be doing probability of getting ace,jack and neither of them probability of ace will be 1/13,jack will be 1/13 and neither will be 11/13 too so"
      ],
      "metadata": {
        "id": "BSLYTrFDm14R"
      }
    },
    {
      "cell_type": "code",
      "source": [
        "p = [1/13,1/13,11/13]\n",
        "sum(p)"
      ],
      "metadata": {
        "colab": {
          "base_uri": "https://localhost:8080/"
        },
        "id": "7DN9YEGRoBlN",
        "outputId": "85030063-1ea7-4171-aa90-1f8b453b3f76"
      },
      "execution_count": 2,
      "outputs": [
        {
          "output_type": "execute_result",
          "data": {
            "text/plain": [
              "1.0"
            ]
          },
          "metadata": {},
          "execution_count": 2
        }
      ]
    },
    {
      "cell_type": "markdown",
      "source": [
        "so the compound event will be getting Ace or the jack,Lets call it R"
      ],
      "metadata": {
        "id": "UrP6hMhjrGc-"
      }
    },
    {
      "cell_type": "code",
      "source": [
        "ProbabilityR = 0\n",
        "\n",
        "for i in [0,1]:\n",
        "  ProbabilityR += p[i]\n",
        "\n",
        "ProbabilityR"
      ],
      "metadata": {
        "colab": {
          "base_uri": "https://localhost:8080/"
        },
        "id": "1vI6IKgGrYx8",
        "outputId": "25884085-6e3d-4c4a-99af-70ed27cdd5a2"
      },
      "execution_count": 3,
      "outputs": [
        {
          "output_type": "execute_result",
          "data": {
            "text/plain": [
              "0.15384615384615385"
            ]
          },
          "metadata": {},
          "execution_count": 3
        }
      ]
    },
    {
      "cell_type": "markdown",
      "source": [
        "Now i will be finding Probablility of getting Ace and either Ace or jack on the two draws  so here \n",
        "                     \n",
        "                     P(A∩R)"
      ],
      "metadata": {
        "id": "xPYy0bhfrw6Z"
      }
    },
    {
      "cell_type": "code",
      "source": [
        "intersection = p[0] * ProbabilityR\n",
        "intersection"
      ],
      "metadata": {
        "id": "oI1UZzj0r-UG",
        "colab": {
          "base_uri": "https://localhost:8080/"
        },
        "outputId": "373a8fcd-f153-4dd1-ff92-abc01a08c205"
      },
      "execution_count": 4,
      "outputs": [
        {
          "output_type": "execute_result",
          "data": {
            "text/plain": [
              "0.01183431952662722"
            ]
          },
          "metadata": {},
          "execution_count": 4
        }
      ]
    },
    {
      "cell_type": "markdown",
      "source": [
        "Now probability for getting Ace on second dwaw we will get ace or jack on the first drawing so\n",
        "         \n",
        "         P(A|R)=P(A∩R)/P(R)"
      ],
      "metadata": {
        "id": "nYDETViDmumo"
      }
    },
    {
      "cell_type": "code",
      "source": [
        "RGA = intersection/ProbabilityR\n",
        "RGA"
      ],
      "metadata": {
        "colab": {
          "base_uri": "https://localhost:8080/"
        },
        "id": "7_9ml4_WHM29",
        "outputId": "bfbcf7ca-ba3d-4c1e-b523-282de330f9f1"
      },
      "execution_count": 5,
      "outputs": [
        {
          "output_type": "execute_result",
          "data": {
            "text/plain": [
              "0.07692307692307693"
            ]
          },
          "metadata": {},
          "execution_count": 5
        }
      ]
    },
    {
      "cell_type": "markdown",
      "source": [
        "Then the probability of getting Ace or jack on second draw given that you got Ace on first draw will be\n",
        "\n",
        "                        P(R|A)=P(R∩A)/P(A)"
      ],
      "metadata": {
        "id": "5qDa1N73HoYl"
      }
    },
    {
      "cell_type": "code",
      "source": [
        "AGR = intersection/p[0]\n",
        "AGR"
      ],
      "metadata": {
        "colab": {
          "base_uri": "https://localhost:8080/"
        },
        "id": "PS9xI4gPIgyy",
        "outputId": "468c616d-564a-42c0-864a-61caa1025553"
      },
      "execution_count": 6,
      "outputs": [
        {
          "output_type": "execute_result",
          "data": {
            "text/plain": [
              "0.15384615384615385"
            ]
          },
          "metadata": {},
          "execution_count": 6
        }
      ]
    },
    {
      "cell_type": "markdown",
      "source": [
        "Now putting the Baye's\n",
        "\n",
        "              P(A|R)=P(A)P(R|A)/P(R)"
      ],
      "metadata": {
        "id": "Dc89-zXuIuXV"
      }
    },
    {
      "cell_type": "code",
      "source": [
        "RGA == (p[0] * AGR)/ProbabilityR"
      ],
      "metadata": {
        "colab": {
          "base_uri": "https://localhost:8080/"
        },
        "id": "s57olcFhJWoN",
        "outputId": "69a3a507-ac57-41fe-ab72-900615f53608"
      },
      "execution_count": 7,
      "outputs": [
        {
          "output_type": "execute_result",
          "data": {
            "text/plain": [
              "True"
            ]
          },
          "metadata": {},
          "execution_count": 7
        }
      ]
    },
    {
      "cell_type": "markdown",
      "source": [
        "Now i will multiply by 13 for the frequency counts"
      ],
      "metadata": {
        "id": "bRHIvPnnJjjX"
      }
    },
    {
      "cell_type": "code",
      "source": [
        "p13 = [13*i for i in p]\n",
        "p13"
      ],
      "metadata": {
        "colab": {
          "base_uri": "https://localhost:8080/"
        },
        "id": "d_XnzOG2Jv_e",
        "outputId": "7bcaadf2-c63c-4670-beea-24a919d2e119"
      },
      "execution_count": 8,
      "outputs": [
        {
          "output_type": "execute_result",
          "data": {
            "text/plain": [
              "[1.0, 1.0, 11.0]"
            ]
          },
          "metadata": {},
          "execution_count": 8
        }
      ]
    },
    {
      "cell_type": "markdown",
      "source": [
        "then i will be using 12 draws to see if the probability closely matches the random"
      ],
      "metadata": {
        "id": "WXH-j-JOJ7Yk"
      }
    },
    {
      "cell_type": "code",
      "source": [
        "from random import choices\n",
        "\n",
        "\n",
        "draw = choices(['Ace','jack','Other'],p13,k=12)\n",
        "print(draw)\n",
        "\n",
        "countAce = 0;\n",
        "countjack = 0;\n",
        "countOthers = 0;\n",
        "\n",
        "for i in draw:\n",
        "  if i == 'Ace':\n",
        "    countAce += 1\n",
        "  if i == 'jack':\n",
        "    countjack += 1\n",
        "  if i == 'Other':\n",
        "    countOthers += 1\n",
        "\n",
        "estimateProb = [countAce/len(draw), countjack/len(draw), countOthers/len(draw)]\n",
        "estimateProb"
      ],
      "metadata": {
        "colab": {
          "base_uri": "https://localhost:8080/"
        },
        "id": "AOmVTu-YKVn7",
        "outputId": "f40cab23-82d8-4b03-d00e-de8fab4bdffe"
      },
      "execution_count": 9,
      "outputs": [
        {
          "output_type": "stream",
          "name": "stdout",
          "text": [
            "['Other', 'Ace', 'jack', 'Ace', 'jack', 'Other', 'Other', 'Other', 'Other', 'Other', 'Other', 'Ace']\n"
          ]
        },
        {
          "output_type": "execute_result",
          "data": {
            "text/plain": [
              "[0.25, 0.16666666666666666, 0.5833333333333334]"
            ]
          },
          "metadata": {},
          "execution_count": 9
        }
      ]
    },
    {
      "cell_type": "markdown",
      "source": [
        "I guess this draws closesly matches the probability."
      ],
      "metadata": {
        "id": "LDA-F6IgKyhz"
      }
    }
  ]
}