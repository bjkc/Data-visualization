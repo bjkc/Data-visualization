{
  "nbformat": 4,
  "nbformat_minor": 0,
  "metadata": {
    "colab": {
      "name": "Untitled11.ipynb",
      "provenance": [],
      "authorship_tag": "ABX9TyN06+eglyMPw9YejVIGZnC/",
      "include_colab_link": true
    },
    "kernelspec": {
      "name": "python3",
      "display_name": "Python 3"
    },
    "language_info": {
      "name": "python"
    }
  },
  "cells": [
    {
      "cell_type": "markdown",
      "metadata": {
        "id": "view-in-github",
        "colab_type": "text"
      },
      "source": [
        "<a href=\"https://colab.research.google.com/github/bjkc/Data-visualization/blob/main/quiz8%20html.ipynb\" target=\"_parent\"><img src=\"https://colab.research.google.com/assets/colab-badge.svg\" alt=\"Open In Colab\"/></a>"
      ]
    },
    {
      "cell_type": "markdown",
      "source": [
        ""
      ],
      "metadata": {
        "id": "3JJVzDwRZEqd"
      }
    },
    {
      "cell_type": "markdown",
      "source": [
        "#Quiz 8\n",
        "Reading data html\n",
        "\n",
        "\n",
        "\n",
        "here i  am going to use some techniques of webScrapping using the Html."
      ],
      "metadata": {
        "id": "lr3BiprNZGN4"
      }
    },
    {
      "cell_type": "code",
      "source": [
        "import requests\n",
        "import pandas as pa\n",
        "from bs4 import BeautifulSoup"
      ],
      "metadata": {
        "id": "815oY6e-Zfpz"
      },
      "execution_count": 1,
      "outputs": []
    },
    {
      "cell_type": "markdown",
      "source": [
        "Now i am going to use a webpage from wikipedia .I am a big fan of WWE since i was a kid here is the webpage \n",
        "\n",
        "https://en.wikipedia.org/wiki/WWE"
      ],
      "metadata": {
        "id": "1dZC_ElUZoEJ"
      }
    },
    {
      "cell_type": "code",
      "source": [
        "r = requests.get('https://en.wikipedia.org/wiki/WWE')\n",
        "html_contents = r.text\n",
        "html_soup = BeautifulSoup(html_contents,'lxml')\n",
        "#html_soup"
      ],
      "metadata": {
        "id": "zMD7JxMQaqo3"
      },
      "execution_count": 2,
      "outputs": []
    },
    {
      "cell_type": "markdown",
      "source": [
        "Then i am examining the data from website"
      ],
      "metadata": {
        "id": "iu3ALlflbEFP"
      }
    },
    {
      "cell_type": "code",
      "source": [
        "html_soup.title"
      ],
      "metadata": {
        "colab": {
          "base_uri": "https://localhost:8080/"
        },
        "id": "MUs8i8ZcbTFl",
        "outputId": "7f22bc16-3645-4ede-c2ce-8448a6865a93"
      },
      "execution_count": 3,
      "outputs": [
        {
          "output_type": "execute_result",
          "data": {
            "text/plain": [
              "<title>WWE - Wikipedia</title>"
            ]
          },
          "metadata": {},
          "execution_count": 3
        }
      ]
    },
    {
      "cell_type": "markdown",
      "source": [
        "Here is my table now"
      ],
      "metadata": {
        "id": "Onu9xrCmbgKh"
      }
    },
    {
      "cell_type": "code",
      "source": [
        "html_soup.table"
      ],
      "metadata": {
        "colab": {
          "base_uri": "https://localhost:8080/"
        },
        "id": "EmnWn39bbjbN",
        "outputId": "9c254ea1-c9b3-4671-a978-1f6af0665efe"
      },
      "execution_count": 4,
      "outputs": [
        {
          "output_type": "execute_result",
          "data": {
            "text/plain": [
              "<table class=\"infobox vcard\"><caption class=\"infobox-title fn org\" style=\"font-size: 125%;\">World Wrestling Entertainment, Inc.</caption><tbody><tr><td class=\"infobox-image logo\" colspan=\"2\"><a class=\"image\" href=\"/wiki/File:WWE_Logo.svg\"><img alt=\"WWE Logo.svg\" data-file-height=\"200\" data-file-width=\"219\" decoding=\"async\" height=\"137\" src=\"//upload.wikimedia.org/wikipedia/commons/thumb/0/03/WWE_Logo.svg/150px-WWE_Logo.svg.png\" srcset=\"//upload.wikimedia.org/wikipedia/commons/thumb/0/03/WWE_Logo.svg/225px-WWE_Logo.svg.png 1.5x, //upload.wikimedia.org/wikipedia/commons/thumb/0/03/WWE_Logo.svg/300px-WWE_Logo.svg.png 2x\" width=\"150\"/></a><div class=\"infobox-caption\">Logo since August 2014</div></td></tr><tr><td class=\"infobox-image logo\" colspan=\"2\"><a class=\"image\" href=\"/wiki/File:WWE_Corporate_HQ,_Stamford,_CT,_jjron_02.05.2012.jpg\"><img alt=\"WWE Corporate HQ, Stamford, CT, jjron 02.05.2012.jpg\" data-file-height=\"800\" data-file-width=\"1200\" decoding=\"async\" height=\"200\" src=\"//upload.wikimedia.org/wikipedia/commons/thumb/8/89/WWE_Corporate_HQ%2C_Stamford%2C_CT%2C_jjron_02.05.2012.jpg/300px-WWE_Corporate_HQ%2C_Stamford%2C_CT%2C_jjron_02.05.2012.jpg\" srcset=\"//upload.wikimedia.org/wikipedia/commons/thumb/8/89/WWE_Corporate_HQ%2C_Stamford%2C_CT%2C_jjron_02.05.2012.jpg/450px-WWE_Corporate_HQ%2C_Stamford%2C_CT%2C_jjron_02.05.2012.jpg 1.5x, //upload.wikimedia.org/wikipedia/commons/thumb/8/89/WWE_Corporate_HQ%2C_Stamford%2C_CT%2C_jjron_02.05.2012.jpg/600px-WWE_Corporate_HQ%2C_Stamford%2C_CT%2C_jjron_02.05.2012.jpg 2x\" width=\"300\"/></a><div class=\"infobox-caption\">Headquarters in <a href=\"/wiki/Stamford,_Connecticut\" title=\"Stamford, Connecticut\">Stamford, Connecticut</a>, in 2012</div></td></tr><tr><th class=\"infobox-label\" scope=\"row\" style=\"padding-right: 0.5em;\"><div style=\"display:inline-block; padding:0.1em 0;line-height:1.2em;\"><a href=\"/wiki/Trade_name\" title=\"Trade name\">Trade name</a></div></th><td class=\"infobox-data\" style=\"line-height: 1.35em;\">WWE</td></tr><tr><th class=\"infobox-label\" scope=\"row\" style=\"padding-right: 0.5em;\">Formerly</th><td class=\"infobox-data nickname\" style=\"line-height: 1.35em;\">Titan Sports, Inc. (1980–1999)<br/>World Wrestling Federation Entertainment, Inc. (1999–2002)</td></tr><tr><th class=\"infobox-label\" scope=\"row\" style=\"padding-right: 0.5em;\">Type</th><td class=\"infobox-data category\" style=\"line-height: 1.35em;\"><a href=\"/wiki/Public_company\" title=\"Public company\">Public</a></td></tr><tr><th class=\"infobox-label\" scope=\"row\" style=\"padding-right: 0.5em;\"><div style=\"display:inline-block; padding:0.1em 0;line-height:1.2em;\"><a href=\"/wiki/Ticker_symbol\" title=\"Ticker symbol\">Traded as</a></div></th><td class=\"infobox-data\" style=\"line-height: 1.35em;\"><div class=\"plainlist\"><ul><li><a href=\"/wiki/New_York_Stock_Exchange\" title=\"New York Stock Exchange\">NYSE</a>: <a class=\"external text\" href=\"https://www.nyse.com/quote/XNYS:WWE\" rel=\"nofollow\">WWE</a></li><li><a href=\"/wiki/S%26P_400\" title=\"S&amp;P 400\">S&amp;P 400</a> component</li></ul></div></td></tr><tr><th class=\"infobox-label\" scope=\"row\" style=\"padding-right: 0.5em;\"><a href=\"/wiki/International_Securities_Identification_Number\" title=\"International Securities Identification Number\">ISIN</a></th><td class=\"infobox-data\" style=\"line-height: 1.35em;\"><span class=\"plainlinks nourlexpansion\"><a class=\"external text\" href=\"https://iw.toolforge.org/isin/?language=en&amp;isin=US98156Q1085\">US98156Q1085</a></span></td></tr><tr><th class=\"infobox-label\" scope=\"row\" style=\"padding-right: 0.5em;\">Industry</th><td class=\"infobox-data category\" style=\"line-height: 1.35em;\"><div class=\"hlist hlist-separated\"><ul><li><a href=\"/wiki/Professional_wrestling\" title=\"Professional wrestling\">Professional wrestling</a></li><li><a href=\"/wiki/Streaming_media\" title=\"Streaming media\">Streaming media</a></li></ul></div></td></tr><tr><th class=\"infobox-label\" scope=\"row\" style=\"padding-right: 0.5em;\">Predecessor</th><td class=\"infobox-data\" style=\"line-height: 1.35em;\"><a href=\"/wiki/Capitol_Wrestling_Corporation\" title=\"Capitol Wrestling Corporation\">Capitol Wrestling Corporation Ltd.</a></td></tr><tr><th class=\"infobox-label\" scope=\"row\" style=\"padding-right: 0.5em;\">Founded</th><td class=\"infobox-data\" style=\"line-height: 1.35em;\"><div class=\"plainlist\">\n",
              "<ul><li>January 7, 1953<span class=\"noprint\">; 69 years ago</span><span style=\"display:none\"> (<span class=\"bday dtstart published updated\">1953-01-07</span>)</span> (first show under Capitol Wrestling Corporation Ltd.)</li>\n",
              "<li>February 21, 1980<span class=\"noprint\">; 41 years ago</span><span style=\"display:none\"> (<span class=\"bday dtstart published updated\">1980-02-21</span>)</span> (as Titan Sports, Inc.)</li></ul>\n",
              "</div></td></tr><tr><th class=\"infobox-label\" scope=\"row\" style=\"padding-right: 0.5em;\">Founders</th><td class=\"infobox-data agent\" style=\"line-height: 1.35em;\"><div class=\"plainlist\"><a href=\"/wiki/Jess_McMahon\" title=\"Jess McMahon\">Jess McMahon</a> or <a href=\"/wiki/Vincent_J._McMahon\" title=\"Vincent J. McMahon\">Vincent J. McMahon</a> (as Capitol Wrestling Corporation Ltd.)\n",
              "</div></td></tr><tr><th class=\"infobox-label\" scope=\"row\" style=\"padding-right: 0.5em;\">Headquarters</th><td class=\"infobox-data adr\" style=\"line-height: 1.35em;\"><div class=\"locality\" style=\"display: inline;\"><a href=\"/wiki/Titan_Towers\" title=\"Titan Towers\">1241 East Main Street</a> <a href=\"/wiki/Stamford,_Connecticut\" title=\"Stamford, Connecticut\">Stamford, Connecticut</a> 06902</div>, <div class=\"country-name\" style=\"display: inline;\">United States</div></td></tr><tr><th class=\"infobox-label\" scope=\"row\" style=\"padding-right: 0.5em;\"><div style=\"display:inline-block; padding:0.1em 0;line-height:1.2em;\">Area served</div></th><td class=\"infobox-data\" style=\"line-height: 1.35em;\">Worldwide</td></tr><tr><th class=\"infobox-label\" scope=\"row\" style=\"padding-right: 0.5em;\"><div style=\"display:inline-block; padding:0.1em 0;line-height:1.2em;\">Key people</div></th><td class=\"infobox-data agent\" style=\"line-height: 1.35em;\"><a href=\"/wiki/Vince_McMahon\" title=\"Vince McMahon\">Vince McMahon</a> (<a href=\"/wiki/Chairperson\" title=\"Chairperson\">Chairman</a> and <a href=\"/wiki/Chief_executive_officer\" title=\"Chief executive officer\">CEO</a>)<br/>Nick Khan (President and <a class=\"mw-redirect\" href=\"/wiki/Chief_Revenue_Officer\" title=\"Chief Revenue Officer\">Chief Revenue Officer</a>)<br/><a href=\"/wiki/Triple_H\" title=\"Triple H\">Paul \"Triple H\" Levesque</a> (<a class=\"mw-redirect\" href=\"/wiki/Executive_Vice_President\" title=\"Executive Vice President\">Executive Vice President</a> and Global Talent Strategy &amp; Development)<br/><a href=\"/wiki/Stephanie_McMahon\" title=\"Stephanie McMahon\">Stephanie McMahon</a> (<a class=\"mw-redirect\" href=\"/wiki/Chief_Brand_Officer\" title=\"Chief Brand Officer\">Chief Brand Officer</a>)</td></tr><tr><th class=\"infobox-label\" scope=\"row\" style=\"padding-right: 0.5em;\">Products</th><td class=\"infobox-data\" style=\"line-height: 1.35em;\"><div class=\"hlist hlist-separated\"><ul><li>Films</li><li>Finance</li><li>Home video</li><li>Live events</li><li>Merchandise</li><li>Music</li><li>Publishing</li><li>Streaming network service</li><li>Television</li></ul></div></td></tr><tr><th class=\"infobox-label\" scope=\"row\" style=\"padding-right: 0.5em;\">Services</th><td class=\"infobox-data category\" style=\"line-height: 1.35em;\">Licensing</td></tr><tr><th class=\"infobox-label\" scope=\"row\" style=\"padding-right: 0.5em;\">Revenue</th><td class=\"infobox-data\" style=\"line-height: 1.35em;\"><img alt=\"Increase\" data-file-height=\"300\" data-file-width=\"300\" decoding=\"async\" height=\"11\" src=\"//upload.wikimedia.org/wikipedia/commons/thumb/b/b0/Increase2.svg/11px-Increase2.svg.png\" srcset=\"//upload.wikimedia.org/wikipedia/commons/thumb/b/b0/Increase2.svg/17px-Increase2.svg.png 1.5x, //upload.wikimedia.org/wikipedia/commons/thumb/b/b0/Increase2.svg/22px-Increase2.svg.png 2x\" title=\"Increase\" width=\"11\"/> <span style=\"white-space: nowrap\">US$974.2 million</span> (2020)<sup class=\"reference\" id=\"cite_ref-xbrlus_1_1-0\"><a href=\"#cite_note-xbrlus_1-1\">[1]</a></sup></td></tr><tr><th class=\"infobox-label\" scope=\"row\" style=\"padding-right: 0.5em;\"><div style=\"display:inline-block; padding:0.1em 0;line-height:1.2em;\"><a href=\"/wiki/Earnings_before_interest_and_taxes\" title=\"Earnings before interest and taxes\">Operating income</a></div></th><td class=\"infobox-data\" style=\"line-height: 1.35em;\"><img alt=\"Increase\" data-file-height=\"300\" data-file-width=\"300\" decoding=\"async\" height=\"11\" src=\"//upload.wikimedia.org/wikipedia/commons/thumb/b/b0/Increase2.svg/11px-Increase2.svg.png\" srcset=\"//upload.wikimedia.org/wikipedia/commons/thumb/b/b0/Increase2.svg/17px-Increase2.svg.png 1.5x, //upload.wikimedia.org/wikipedia/commons/thumb/b/b0/Increase2.svg/22px-Increase2.svg.png 2x\" title=\"Increase\" width=\"11\"/> <span style=\"white-space: nowrap\">US$208.6 million</span> (2020)<sup class=\"reference\" id=\"cite_ref-xbrlus_1_1-1\"><a href=\"#cite_note-xbrlus_1-1\">[1]</a></sup></td></tr><tr><th class=\"infobox-label\" scope=\"row\" style=\"padding-right: 0.5em;\"><div style=\"display:inline-block; padding:0.1em 0;line-height:1.2em;\"><a href=\"/wiki/Net_income\" title=\"Net income\">Net income</a></div></th><td class=\"infobox-data\" style=\"line-height: 1.35em;\"><img alt=\"Increase\" data-file-height=\"300\" data-file-width=\"300\" decoding=\"async\" height=\"11\" src=\"//upload.wikimedia.org/wikipedia/commons/thumb/b/b0/Increase2.svg/11px-Increase2.svg.png\" srcset=\"//upload.wikimedia.org/wikipedia/commons/thumb/b/b0/Increase2.svg/17px-Increase2.svg.png 1.5x, //upload.wikimedia.org/wikipedia/commons/thumb/b/b0/Increase2.svg/22px-Increase2.svg.png 2x\" title=\"Increase\" width=\"11\"/> <span style=\"white-space: nowrap\">US$131.8 million</span> (2020)<sup class=\"reference\" id=\"cite_ref-xbrlus_1_1-2\"><a href=\"#cite_note-xbrlus_1-1\">[1]</a></sup></td></tr><tr><th class=\"infobox-label\" scope=\"row\" style=\"padding-right: 0.5em;\"><span class=\"nowrap\"><a href=\"/wiki/Asset\" title=\"Asset\">Total assets</a></span></th><td class=\"infobox-data\" style=\"line-height: 1.35em;\"><img alt=\"Increase\" data-file-height=\"300\" data-file-width=\"300\" decoding=\"async\" height=\"11\" src=\"//upload.wikimedia.org/wikipedia/commons/thumb/b/b0/Increase2.svg/11px-Increase2.svg.png\" srcset=\"//upload.wikimedia.org/wikipedia/commons/thumb/b/b0/Increase2.svg/17px-Increase2.svg.png 1.5x, //upload.wikimedia.org/wikipedia/commons/thumb/b/b0/Increase2.svg/22px-Increase2.svg.png 2x\" title=\"Increase\" width=\"11\"/> <span style=\"white-space: nowrap\">US$1.2 billion</span> (2020)<sup class=\"reference\" id=\"cite_ref-xbrlus_1_1-3\"><a href=\"#cite_note-xbrlus_1-1\">[1]</a></sup></td></tr><tr><th class=\"infobox-label\" scope=\"row\" style=\"padding-right: 0.5em;\"><span class=\"nowrap\"><a href=\"/wiki/Equity_(finance)\" title=\"Equity (finance)\">Total equity</a></span></th><td class=\"infobox-data\" style=\"line-height: 1.35em;\"><img alt=\"Increase\" data-file-height=\"300\" data-file-width=\"300\" decoding=\"async\" height=\"11\" src=\"//upload.wikimedia.org/wikipedia/commons/thumb/b/b0/Increase2.svg/11px-Increase2.svg.png\" srcset=\"//upload.wikimedia.org/wikipedia/commons/thumb/b/b0/Increase2.svg/17px-Increase2.svg.png 1.5x, //upload.wikimedia.org/wikipedia/commons/thumb/b/b0/Increase2.svg/22px-Increase2.svg.png 2x\" title=\"Increase\" width=\"11\"/> <span style=\"white-space: nowrap\">US$388.8 million</span> (2020)<sup class=\"reference\" id=\"cite_ref-xbrlus_1_1-4\"><a href=\"#cite_note-xbrlus_1-1\">[1]</a></sup></td></tr><tr><th class=\"infobox-label\" scope=\"row\" style=\"padding-right: 0.5em;\">Owner</th><td class=\"infobox-data\" style=\"line-height: 1.35em;\">Vince McMahon<sup class=\"reference\" id=\"cite_ref-3\"><a href=\"#cite_note-3\">[a]</a></sup></td></tr><tr><th class=\"infobox-label\" scope=\"row\" style=\"padding-right: 0.5em;\"><div style=\"display:inline-block; padding:0.1em 0;line-height:1.2em;\">Number of employees</div></th><td class=\"infobox-data\" style=\"line-height: 1.35em;\">approximately 850 (2017)<sup class=\"reference\" id=\"cite_ref-4\"><a href=\"#cite_note-4\">[3]</a></sup></td></tr><tr><th class=\"infobox-label\" scope=\"row\" style=\"padding-right: 0.5em;\"><a href=\"/wiki/Division_(business)\" title=\"Division (business)\">Divisions</a></th><td class=\"infobox-data\" style=\"line-height: 1.35em;\"><a href=\"/wiki/WWE_Books\" title=\"WWE Books\">WWE Books</a><br/><a href=\"/wiki/WWE_Libraries\" title=\"WWE Libraries\">WWE Libraries</a><br/><a href=\"/wiki/WWE_Music_Group\" title=\"WWE Music Group\">WWE Music Group</a><br/><a href=\"/wiki/WWE_Network\" title=\"WWE Network\">WWE Network</a><br/><a href=\"/wiki/WWE_Performance_Center\" title=\"WWE Performance Center\">WWE Performance Center</a><br/>WWE Shop<br/><a href=\"/wiki/WWE_Studios\" title=\"WWE Studios\">WWE Studios</a><sup class=\"reference\" id=\"cite_ref-5\"><a href=\"#cite_note-5\">[4]</a></sup></td></tr><tr><th class=\"infobox-label\" scope=\"row\" style=\"padding-right: 0.5em;\"><a href=\"/wiki/Subsidiary\" title=\"Subsidiary\">Subsidiaries</a></th><td class=\"infobox-data\" style=\"line-height: 1.35em;\"><a href=\"/wiki/Tapout_(clothing_brand)\" title=\"Tapout (clothing brand)\">Tapout</a> (50%)<sup class=\"reference\" id=\"cite_ref-6\"><a href=\"#cite_note-6\">[5]</a></sup><br/>TSI Realty Company<br/><a href=\"/wiki/World_Championship_Wrestling\" title=\"World Championship Wrestling\">WCW</a><br/>WWE Asia Pacific<br/>WWE Australia<br/>WWE Canada<br/>WWE Germany<br/>WWE Jet Services<br/>WWE Latin America<br/>WWE Middle East and Africa<br/>WWE Properties International</td></tr><tr><th class=\"infobox-label\" scope=\"row\" style=\"padding-right: 0.5em;\">Website</th><td class=\"infobox-data\" style=\"line-height: 1.35em;\"><span class=\"url\"><a class=\"external text\" href=\"http://wwe.com\" rel=\"nofollow\">wwe<wbr/>.com</a></span></td></tr></tbody></table>"
            ]
          },
          "metadata": {},
          "execution_count": 4
        }
      ]
    },
    {
      "cell_type": "code",
      "source": [
        "html_soup.table.a['href']"
      ],
      "metadata": {
        "colab": {
          "base_uri": "https://localhost:8080/",
          "height": 35
        },
        "id": "ryywuj_Zb4L4",
        "outputId": "21078213-c3c3-4fcb-a95a-1521a2b2117f"
      },
      "execution_count": 5,
      "outputs": [
        {
          "output_type": "execute_result",
          "data": {
            "application/vnd.google.colaboratory.intrinsic+json": {
              "type": "string"
            },
            "text/plain": [
              "'/wiki/File:WWE_Logo.svg'"
            ]
          },
          "metadata": {},
          "execution_count": 5
        }
      ]
    },
    {
      "cell_type": "code",
      "source": [
        "html_soup.table.find_all('a')"
      ],
      "metadata": {
        "colab": {
          "base_uri": "https://localhost:8080/"
        },
        "id": "PeUbWXeqcA_y",
        "outputId": "2abaaaf8-5706-45b9-fb08-be07d8b170f3"
      },
      "execution_count": 6,
      "outputs": [
        {
          "output_type": "execute_result",
          "data": {
            "text/plain": [
              "[<a class=\"image\" href=\"/wiki/File:WWE_Logo.svg\"><img alt=\"WWE Logo.svg\" data-file-height=\"200\" data-file-width=\"219\" decoding=\"async\" height=\"137\" src=\"//upload.wikimedia.org/wikipedia/commons/thumb/0/03/WWE_Logo.svg/150px-WWE_Logo.svg.png\" srcset=\"//upload.wikimedia.org/wikipedia/commons/thumb/0/03/WWE_Logo.svg/225px-WWE_Logo.svg.png 1.5x, //upload.wikimedia.org/wikipedia/commons/thumb/0/03/WWE_Logo.svg/300px-WWE_Logo.svg.png 2x\" width=\"150\"/></a>,\n",
              " <a class=\"image\" href=\"/wiki/File:WWE_Corporate_HQ,_Stamford,_CT,_jjron_02.05.2012.jpg\"><img alt=\"WWE Corporate HQ, Stamford, CT, jjron 02.05.2012.jpg\" data-file-height=\"800\" data-file-width=\"1200\" decoding=\"async\" height=\"200\" src=\"//upload.wikimedia.org/wikipedia/commons/thumb/8/89/WWE_Corporate_HQ%2C_Stamford%2C_CT%2C_jjron_02.05.2012.jpg/300px-WWE_Corporate_HQ%2C_Stamford%2C_CT%2C_jjron_02.05.2012.jpg\" srcset=\"//upload.wikimedia.org/wikipedia/commons/thumb/8/89/WWE_Corporate_HQ%2C_Stamford%2C_CT%2C_jjron_02.05.2012.jpg/450px-WWE_Corporate_HQ%2C_Stamford%2C_CT%2C_jjron_02.05.2012.jpg 1.5x, //upload.wikimedia.org/wikipedia/commons/thumb/8/89/WWE_Corporate_HQ%2C_Stamford%2C_CT%2C_jjron_02.05.2012.jpg/600px-WWE_Corporate_HQ%2C_Stamford%2C_CT%2C_jjron_02.05.2012.jpg 2x\" width=\"300\"/></a>,\n",
              " <a href=\"/wiki/Stamford,_Connecticut\" title=\"Stamford, Connecticut\">Stamford, Connecticut</a>,\n",
              " <a href=\"/wiki/Trade_name\" title=\"Trade name\">Trade name</a>,\n",
              " <a href=\"/wiki/Public_company\" title=\"Public company\">Public</a>,\n",
              " <a href=\"/wiki/Ticker_symbol\" title=\"Ticker symbol\">Traded as</a>,\n",
              " <a href=\"/wiki/New_York_Stock_Exchange\" title=\"New York Stock Exchange\">NYSE</a>,\n",
              " <a class=\"external text\" href=\"https://www.nyse.com/quote/XNYS:WWE\" rel=\"nofollow\">WWE</a>,\n",
              " <a href=\"/wiki/S%26P_400\" title=\"S&amp;P 400\">S&amp;P 400</a>,\n",
              " <a href=\"/wiki/International_Securities_Identification_Number\" title=\"International Securities Identification Number\">ISIN</a>,\n",
              " <a class=\"external text\" href=\"https://iw.toolforge.org/isin/?language=en&amp;isin=US98156Q1085\">US98156Q1085</a>,\n",
              " <a href=\"/wiki/Professional_wrestling\" title=\"Professional wrestling\">Professional wrestling</a>,\n",
              " <a href=\"/wiki/Streaming_media\" title=\"Streaming media\">Streaming media</a>,\n",
              " <a href=\"/wiki/Capitol_Wrestling_Corporation\" title=\"Capitol Wrestling Corporation\">Capitol Wrestling Corporation Ltd.</a>,\n",
              " <a href=\"/wiki/Jess_McMahon\" title=\"Jess McMahon\">Jess McMahon</a>,\n",
              " <a href=\"/wiki/Vincent_J._McMahon\" title=\"Vincent J. McMahon\">Vincent J. McMahon</a>,\n",
              " <a href=\"/wiki/Titan_Towers\" title=\"Titan Towers\">1241 East Main Street</a>,\n",
              " <a href=\"/wiki/Stamford,_Connecticut\" title=\"Stamford, Connecticut\">Stamford, Connecticut</a>,\n",
              " <a href=\"/wiki/Vince_McMahon\" title=\"Vince McMahon\">Vince McMahon</a>,\n",
              " <a href=\"/wiki/Chairperson\" title=\"Chairperson\">Chairman</a>,\n",
              " <a href=\"/wiki/Chief_executive_officer\" title=\"Chief executive officer\">CEO</a>,\n",
              " <a class=\"mw-redirect\" href=\"/wiki/Chief_Revenue_Officer\" title=\"Chief Revenue Officer\">Chief Revenue Officer</a>,\n",
              " <a href=\"/wiki/Triple_H\" title=\"Triple H\">Paul \"Triple H\" Levesque</a>,\n",
              " <a class=\"mw-redirect\" href=\"/wiki/Executive_Vice_President\" title=\"Executive Vice President\">Executive Vice President</a>,\n",
              " <a href=\"/wiki/Stephanie_McMahon\" title=\"Stephanie McMahon\">Stephanie McMahon</a>,\n",
              " <a class=\"mw-redirect\" href=\"/wiki/Chief_Brand_Officer\" title=\"Chief Brand Officer\">Chief Brand Officer</a>,\n",
              " <a href=\"#cite_note-xbrlus_1-1\">[1]</a>,\n",
              " <a href=\"/wiki/Earnings_before_interest_and_taxes\" title=\"Earnings before interest and taxes\">Operating income</a>,\n",
              " <a href=\"#cite_note-xbrlus_1-1\">[1]</a>,\n",
              " <a href=\"/wiki/Net_income\" title=\"Net income\">Net income</a>,\n",
              " <a href=\"#cite_note-xbrlus_1-1\">[1]</a>,\n",
              " <a href=\"/wiki/Asset\" title=\"Asset\">Total assets</a>,\n",
              " <a href=\"#cite_note-xbrlus_1-1\">[1]</a>,\n",
              " <a href=\"/wiki/Equity_(finance)\" title=\"Equity (finance)\">Total equity</a>,\n",
              " <a href=\"#cite_note-xbrlus_1-1\">[1]</a>,\n",
              " <a href=\"#cite_note-3\">[a]</a>,\n",
              " <a href=\"#cite_note-4\">[3]</a>,\n",
              " <a href=\"/wiki/Division_(business)\" title=\"Division (business)\">Divisions</a>,\n",
              " <a href=\"/wiki/WWE_Books\" title=\"WWE Books\">WWE Books</a>,\n",
              " <a href=\"/wiki/WWE_Libraries\" title=\"WWE Libraries\">WWE Libraries</a>,\n",
              " <a href=\"/wiki/WWE_Music_Group\" title=\"WWE Music Group\">WWE Music Group</a>,\n",
              " <a href=\"/wiki/WWE_Network\" title=\"WWE Network\">WWE Network</a>,\n",
              " <a href=\"/wiki/WWE_Performance_Center\" title=\"WWE Performance Center\">WWE Performance Center</a>,\n",
              " <a href=\"/wiki/WWE_Studios\" title=\"WWE Studios\">WWE Studios</a>,\n",
              " <a href=\"#cite_note-5\">[4]</a>,\n",
              " <a href=\"/wiki/Subsidiary\" title=\"Subsidiary\">Subsidiaries</a>,\n",
              " <a href=\"/wiki/Tapout_(clothing_brand)\" title=\"Tapout (clothing brand)\">Tapout</a>,\n",
              " <a href=\"#cite_note-6\">[5]</a>,\n",
              " <a href=\"/wiki/World_Championship_Wrestling\" title=\"World Championship Wrestling\">WCW</a>,\n",
              " <a class=\"external text\" href=\"http://wwe.com\" rel=\"nofollow\">wwe<wbr/>.com</a>]"
            ]
          },
          "metadata": {},
          "execution_count": 6
        }
      ]
    },
    {
      "cell_type": "markdown",
      "source": [
        " lets retrieve all the links and store them in a list."
      ],
      "metadata": {
        "id": "9NhhKcD7cRV5"
      }
    },
    {
      "cell_type": "code",
      "source": [
        "links = html_soup.table.find_all('a')\n",
        "listOfURLS = []\n",
        "\n",
        "for link in links:\n",
        "  listOfURLS.append('https://en.wikipedia.org' + link['href'])\n",
        "\n",
        "listOfURLS"
      ],
      "metadata": {
        "colab": {
          "base_uri": "https://localhost:8080/"
        },
        "id": "mw5GttWTcS11",
        "outputId": "a86cb1a4-877c-4672-f8c7-c6b53ea4be58"
      },
      "execution_count": 7,
      "outputs": [
        {
          "output_type": "execute_result",
          "data": {
            "text/plain": [
              "['https://en.wikipedia.org/wiki/File:WWE_Logo.svg',\n",
              " 'https://en.wikipedia.org/wiki/File:WWE_Corporate_HQ,_Stamford,_CT,_jjron_02.05.2012.jpg',\n",
              " 'https://en.wikipedia.org/wiki/Stamford,_Connecticut',\n",
              " 'https://en.wikipedia.org/wiki/Trade_name',\n",
              " 'https://en.wikipedia.org/wiki/Public_company',\n",
              " 'https://en.wikipedia.org/wiki/Ticker_symbol',\n",
              " 'https://en.wikipedia.org/wiki/New_York_Stock_Exchange',\n",
              " 'https://en.wikipedia.orghttps://www.nyse.com/quote/XNYS:WWE',\n",
              " 'https://en.wikipedia.org/wiki/S%26P_400',\n",
              " 'https://en.wikipedia.org/wiki/International_Securities_Identification_Number',\n",
              " 'https://en.wikipedia.orghttps://iw.toolforge.org/isin/?language=en&isin=US98156Q1085',\n",
              " 'https://en.wikipedia.org/wiki/Professional_wrestling',\n",
              " 'https://en.wikipedia.org/wiki/Streaming_media',\n",
              " 'https://en.wikipedia.org/wiki/Capitol_Wrestling_Corporation',\n",
              " 'https://en.wikipedia.org/wiki/Jess_McMahon',\n",
              " 'https://en.wikipedia.org/wiki/Vincent_J._McMahon',\n",
              " 'https://en.wikipedia.org/wiki/Titan_Towers',\n",
              " 'https://en.wikipedia.org/wiki/Stamford,_Connecticut',\n",
              " 'https://en.wikipedia.org/wiki/Vince_McMahon',\n",
              " 'https://en.wikipedia.org/wiki/Chairperson',\n",
              " 'https://en.wikipedia.org/wiki/Chief_executive_officer',\n",
              " 'https://en.wikipedia.org/wiki/Chief_Revenue_Officer',\n",
              " 'https://en.wikipedia.org/wiki/Triple_H',\n",
              " 'https://en.wikipedia.org/wiki/Executive_Vice_President',\n",
              " 'https://en.wikipedia.org/wiki/Stephanie_McMahon',\n",
              " 'https://en.wikipedia.org/wiki/Chief_Brand_Officer',\n",
              " 'https://en.wikipedia.org#cite_note-xbrlus_1-1',\n",
              " 'https://en.wikipedia.org/wiki/Earnings_before_interest_and_taxes',\n",
              " 'https://en.wikipedia.org#cite_note-xbrlus_1-1',\n",
              " 'https://en.wikipedia.org/wiki/Net_income',\n",
              " 'https://en.wikipedia.org#cite_note-xbrlus_1-1',\n",
              " 'https://en.wikipedia.org/wiki/Asset',\n",
              " 'https://en.wikipedia.org#cite_note-xbrlus_1-1',\n",
              " 'https://en.wikipedia.org/wiki/Equity_(finance)',\n",
              " 'https://en.wikipedia.org#cite_note-xbrlus_1-1',\n",
              " 'https://en.wikipedia.org#cite_note-3',\n",
              " 'https://en.wikipedia.org#cite_note-4',\n",
              " 'https://en.wikipedia.org/wiki/Division_(business)',\n",
              " 'https://en.wikipedia.org/wiki/WWE_Books',\n",
              " 'https://en.wikipedia.org/wiki/WWE_Libraries',\n",
              " 'https://en.wikipedia.org/wiki/WWE_Music_Group',\n",
              " 'https://en.wikipedia.org/wiki/WWE_Network',\n",
              " 'https://en.wikipedia.org/wiki/WWE_Performance_Center',\n",
              " 'https://en.wikipedia.org/wiki/WWE_Studios',\n",
              " 'https://en.wikipedia.org#cite_note-5',\n",
              " 'https://en.wikipedia.org/wiki/Subsidiary',\n",
              " 'https://en.wikipedia.org/wiki/Tapout_(clothing_brand)',\n",
              " 'https://en.wikipedia.org#cite_note-6',\n",
              " 'https://en.wikipedia.org/wiki/World_Championship_Wrestling',\n",
              " 'https://en.wikipedia.orghttp://wwe.com']"
            ]
          },
          "metadata": {},
          "execution_count": 7
        }
      ]
    },
    {
      "cell_type": "markdown",
      "source": [
        "Looks like it have lots of sites that we can visit."
      ],
      "metadata": {
        "id": "9aswDAHpclyo"
      }
    }
  ]
}