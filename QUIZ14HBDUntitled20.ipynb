{
  "nbformat": 4,
  "nbformat_minor": 0,
  "metadata": {
    "colab": {
      "name": "Untitled20.ipynb",
      "provenance": [],
      "authorship_tag": "ABX9TyPULmveTju/d9R5xpb7CGRb",
      "include_colab_link": true
    },
    "kernelspec": {
      "name": "python3",
      "display_name": "Python 3"
    },
    "language_info": {
      "name": "python"
    }
  },
  "cells": [
    {
      "cell_type": "markdown",
      "metadata": {
        "id": "view-in-github",
        "colab_type": "text"
      },
      "source": [
        "<a href=\"https://colab.research.google.com/github/bjkc/Data-visualization/blob/main/QUIZ14HBDUntitled20.ipynb\" target=\"_parent\"><img src=\"https://colab.research.google.com/assets/colab-badge.svg\" alt=\"Open In Colab\"/></a>"
      ]
    },
    {
      "cell_type": "markdown",
      "source": [
        "#quiz 14 \n",
        "classwork today\n",
        "HBD"
      ],
      "metadata": {
        "id": "WiHn2Az5GRTZ"
      }
    },
    {
      "cell_type": "code",
      "execution_count": 6,
      "metadata": {
        "colab": {
          "base_uri": "https://localhost:8080/",
          "height": 35
        },
        "id": "GR8pn_qdB6yq",
        "outputId": "38df1565-d221-4aa7-cb1f-62d255167d7f"
      },
      "outputs": [
        {
          "output_type": "execute_result",
          "data": {
            "application/vnd.google.colaboratory.intrinsic+json": {
              "type": "string"
            },
            "text/plain": [
              "'Happy Birthday to you. Happy Birthday to you. Happy Birthday dear bijay raj kc. Happy Birthday to you.'"
            ]
          },
          "metadata": {},
          "execution_count": 6
        }
      ],
      "source": [
        "happy = 'Happy Birthday to you.'\n",
        "name = 'dear bijay raj kc. '\n",
        "happy + \" \"+ happy+ \" \" + happy[:-8] + \" \" + name + happy"
      ]
    }
  ]
}