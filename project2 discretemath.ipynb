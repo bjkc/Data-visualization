{
  "nbformat": 4,
  "nbformat_minor": 0,
  "metadata": {
    "colab": {
      "name": "Untitled6.ipynb",
      "provenance": [],
      "authorship_tag": "ABX9TyN25vSDruNntB79nMapcdwg",
      "include_colab_link": true
    },
    "kernelspec": {
      "name": "python3",
      "display_name": "Python 3"
    },
    "language_info": {
      "name": "python"
    }
  },
  "cells": [
    {
      "cell_type": "markdown",
      "metadata": {
        "id": "view-in-github",
        "colab_type": "text"
      },
      "source": [
        "<a href=\"https://colab.research.google.com/github/bjkc/Data-visualization/blob/main/project2%20discretemath.ipynb\" target=\"_parent\"><img src=\"https://colab.research.google.com/assets/colab-badge.svg\" alt=\"Open In Colab\"/></a>"
      ]
    },
    {
      "cell_type": "markdown",
      "source": [
        "#Bijay raj kc\n",
        "function assignment\n",
        "Discrete math"
      ],
      "metadata": {
        "id": "smEkQKTHn9ym"
      }
    },
    {
      "cell_type": "markdown",
      "source": [
        "A function is piece of code that executes a specific set of operations in a program.\n",
        "We may partition our code into functions. It is up to  how we split our code into various functions, but logically the separation should be such that each function performs a distinct job.\n",
        "A function declaration includes the name, return type, and parameters of a function. The actual body of the function is provided by a function definition.for example"
      ],
      "metadata": {
        "id": "TNtl0e0fnM_q"
      }
    },
    {
      "cell_type": "code",
      "source": [
        "def test_function():\n",
        "  print(\"Hello world\")\n",
        "\n",
        "test_function()"
      ],
      "metadata": {
        "colab": {
          "base_uri": "https://localhost:8080/"
        },
        "id": "h-F3dWaonbpg",
        "outputId": "9eb5ea42-a99a-4994-8070-e09c7c18c1af"
      },
      "execution_count": 2,
      "outputs": [
        {
          "output_type": "stream",
          "name": "stdout",
          "text": [
            "Hello world\n"
          ]
        }
      ]
    },
    {
      "cell_type": "markdown",
      "source": [
        "Also below"
      ],
      "metadata": {
        "id": "r_bF9f2EpLt1"
      }
    },
    {
      "cell_type": "code",
      "source": [
        "def addition(a,b):#function for adding two numbers\n",
        "    add=a+b;\n",
        "    return add; #return value\n",
        "p=25  #declaration of variables\n",
        "q=55\n",
        "print(\"The sum of two numbers is :\",addition(p,q))"
      ],
      "metadata": {
        "colab": {
          "base_uri": "https://localhost:8080/"
        },
        "id": "ETr-3CDvpGAa",
        "outputId": "40d35bf1-bc9a-43ca-fd7e-ea0d3634115e"
      },
      "execution_count": 3,
      "outputs": [
        {
          "output_type": "stream",
          "name": "stdout",
          "text": [
            "The sum of two numbers is : 80\n"
          ]
        }
      ]
    },
    {
      "cell_type": "code",
      "source": [
        "def test(x):\n",
        "   return npy.sin(x) + x + x * npy.sin(x)"
      ],
      "metadata": {
        "id": "GlYDERzVphcp"
      },
      "execution_count": 4,
      "outputs": []
    },
    {
      "cell_type": "code",
      "source": [
        "import numpy as npy\n",
        "\n",
        "from matplotlib import pyplot as p\n",
        "\n",
        "p.rcParams[\"figure.figsize\"] = [7.50, 3.50]\n",
        "p.rcParams[\"figure.autolayout\"] = True\n",
        "\n",
        "def test(a):\n",
        "   return npy.sin(a) + a + a * npy.sin(a)\n",
        "\n",
        "a = npy.linspace(-10, 10, 100)\n",
        "\n",
        "p.plot(a, test(a), color='black')\n",
        "\n",
        "p.show()"
      ],
      "metadata": {
        "colab": {
          "base_uri": "https://localhost:8080/",
          "height": 261
        },
        "id": "0ePfUWYvprf4",
        "outputId": "44b802cb-4977-42da-b502-4013c287b60b"
      },
      "execution_count": 5,
      "outputs": [
        {
          "output_type": "display_data",
          "data": {
            "image/png": "[encoded data removed]",
            "text/plain": [
              "<Figure size 540x252 with 1 Axes>"
            ]
          },
          "metadata": {
            "needs_background": "light"
          }
        }
      ]
    },
    {
      "cell_type": "markdown",
      "source": [
        "Here is my graph"
      ],
      "metadata": {
        "id": "mphMzZheqJkT"
      }
    },
    {
      "cell_type": "markdown",
      "source": [
        "Now i am going to use dictionery from my 1st project"
      ],
      "metadata": {
        "id": "AooNhlNRqlj-"
      }
    },
    {
      "cell_type": "code",
      "source": [
        "A = ['Andre the giant', 'bret hart', 'dusty rhodes', 'mr fuji', 'jim ross', 'undertaker', 'william regal']\n",
        "B = ['alexa bliss', 'bray wyatt', 'baron', 'jim ross', 'william regal', 'walter']\n",
        "\n",
        "dictionary = dict({a:b for a,b in zip(A, B)})"
      ],
      "metadata": {
        "id": "IgXdnbcGqv-G"
      },
      "execution_count": 6,
      "outputs": []
    },
    {
      "cell_type": "code",
      "source": [
        "dictionary"
      ],
      "metadata": {
        "colab": {
          "base_uri": "https://localhost:8080/"
        },
        "id": "7gNDOeYdq9-f",
        "outputId": "d5cfb23b-08cf-4ce2-9c7d-ca1876aa84b0"
      },
      "execution_count": 7,
      "outputs": [
        {
          "output_type": "execute_result",
          "data": {
            "text/plain": [
              "{'Andre the giant': 'alexa bliss',\n",
              " 'bret hart': 'bray wyatt',\n",
              " 'dusty rhodes': 'baron',\n",
              " 'jim ross': 'william regal',\n",
              " 'mr fuji': 'jim ross',\n",
              " 'undertaker': 'walter'}"
            ]
          },
          "metadata": {},
          "execution_count": 7
        }
      ]
    },
    {
      "cell_type": "markdown",
      "source": [
        "i am doing it again to see another results"
      ],
      "metadata": {
        "id": "lgqNPhaPrShQ"
      }
    },
    {
      "cell_type": "code",
      "source": [
        "actualDictionary = dict({'william regal':'Alexa bliss','jim ross':'bret hart', 'mr fuji':'baron'})\n"
      ],
      "metadata": {
        "id": "hzKg9V7prYMc"
      },
      "execution_count": 8,
      "outputs": []
    },
    {
      "cell_type": "code",
      "source": [
        "newlist2 = [actualDictionary.get(x,x) for x in A]"
      ],
      "metadata": {
        "id": "Eh75PpXOsH-3"
      },
      "execution_count": 9,
      "outputs": []
    },
    {
      "cell_type": "code",
      "source": [
        "newlist2"
      ],
      "metadata": {
        "colab": {
          "base_uri": "https://localhost:8080/"
        },
        "id": "5f8_hDq3sMYW",
        "outputId": "f8dc6d9c-3976-41dc-9633-fd6d0a12a0f8"
      },
      "execution_count": 10,
      "outputs": [
        {
          "output_type": "execute_result",
          "data": {
            "text/plain": [
              "['Andre the giant',\n",
              " 'bret hart',\n",
              " 'dusty rhodes',\n",
              " 'baron',\n",
              " 'bret hart',\n",
              " 'undertaker',\n",
              " 'Alexa bliss']"
            ]
          },
          "metadata": {},
          "execution_count": 10
        }
      ]
    },
    {
      "cell_type": "markdown",
      "source": [
        "I think it did some changes in the list.The results shows that The relation is not an endo relation but it is not symmetric bret hart goes to undertaker but not back.It is transitive as nothing is mapped in range."
      ],
      "metadata": {
        "id": "Gy-z6t5PsVyt"
      }
    }
  ]
}