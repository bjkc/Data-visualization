{
  "nbformat": 4,
  "nbformat_minor": 0,
  "metadata": {
    "colab": {
      "name": "Untitled21.ipynb",
      "provenance": [],
      "authorship_tag": "ABX9TyM79fCcphzaaLe2zYFD6wYN",
      "include_colab_link": true
    },
    "kernelspec": {
      "name": "python3",
      "display_name": "Python 3"
    },
    "language_info": {
      "name": "python"
    }
  },
  "cells": [
    {
      "cell_type": "markdown",
      "metadata": {
        "id": "view-in-github",
        "colab_type": "text"
      },
      "source": [
        "<a href=\"https://colab.research.google.com/github/bjkc/Data-visualization/blob/main/project6.ipynb\" target=\"_parent\"><img src=\"https://colab.research.google.com/assets/colab-badge.svg\" alt=\"Open In Colab\"/></a>"
      ]
    },
    {
      "cell_type": "markdown",
      "source": [
        "#project 6\n",
        "\n",
        "bijay raj kc\n",
        "\n",
        "discrete mathmatics"
      ],
      "metadata": {
        "id": "UqBfBgAqoqMD"
      }
    },
    {
      "cell_type": "markdown",
      "source": [
        "Below i will convert 24036 with base 7 to base 10"
      ],
      "metadata": {
        "id": "dYsKmtG0o04b"
      }
    },
    {
      "cell_type": "code",
      "source": [
        "x = 0\n",
        "y = 0\n",
        "number = '24036'\n",
        "base = 7\n",
        "for c in map(int, number):\n",
        "  y += 1\n",
        "  x += c * (base**(len(number) - y))\n",
        "x"
      ],
      "metadata": {
        "colab": {
          "base_uri": "https://localhost:8080/"
        },
        "id": "hf22dlDlpItT",
        "outputId": "8e5c6ee5-30a7-46f3-bec3-e219c818c0df"
      },
      "execution_count": 1,
      "outputs": [
        {
          "output_type": "execute_result",
          "data": {
            "text/plain": [
              "6201"
            ]
          },
          "metadata": {},
          "execution_count": 1
        }
      ]
    },
    {
      "cell_type": "code",
      "source": [
        "(2*7**4)+(4*7**3)+(0*7**2)+(3*7**1)+(6*7**0)"
      ],
      "metadata": {
        "colab": {
          "base_uri": "https://localhost:8080/"
        },
        "id": "LxXl8se7pWlk",
        "outputId": "f9854f75-fdd7-463a-8d82-a261acc6476b"
      },
      "execution_count": 2,
      "outputs": [
        {
          "output_type": "execute_result",
          "data": {
            "text/plain": [
              "6201"
            ]
          },
          "metadata": {},
          "execution_count": 2
        }
      ]
    },
    {
      "cell_type": "markdown",
      "source": [
        "got the same result with those different input above now i will convert hexadecimal 72e3 to base 10"
      ],
      "metadata": {
        "id": "AHOfIIKOploL"
      }
    },
    {
      "cell_type": "code",
      "source": [
        "x = 0\n",
        "y = 0\n",
        "number = '72e3'\n",
        "numberLength = len(number)\n",
        "\n",
        "for i in number:\n",
        "    \n",
        "    y += 1\n",
        "    if i == 'a':\n",
        "      I = 10\n",
        "\n",
        "    elif i == 'b':\n",
        "      I = 11\n",
        "\n",
        "    elif i == 'c':\n",
        "      I = 12\n",
        "\n",
        "    elif i == 'd':\n",
        "      I = 13\n",
        "\n",
        "    elif i == 'e':\n",
        "      I = 14\n",
        "\n",
        "    elif i == 'f':\n",
        "      I = 15\n",
        "\n",
        "    else:\n",
        "      I = int(i)\n",
        "\n",
        "    x += I * (16**(numberLength - y))\n",
        "x"
      ],
      "metadata": {
        "colab": {
          "base_uri": "https://localhost:8080/"
        },
        "id": "TYXK-zqMqGxj",
        "outputId": "e7c842f8-385b-452d-c018-a61c5199ee3e"
      },
      "execution_count": 3,
      "outputs": [
        {
          "output_type": "execute_result",
          "data": {
            "text/plain": [
              "29411"
            ]
          },
          "metadata": {},
          "execution_count": 3
        }
      ]
    },
    {
      "cell_type": "code",
      "source": [
        "int('0x72e3',16)"
      ],
      "metadata": {
        "colab": {
          "base_uri": "https://localhost:8080/"
        },
        "id": "GEUA4JnwqSMw",
        "outputId": "e13ab8a7-f659-4b3a-e3a8-3c7218fb1823"
      },
      "execution_count": 4,
      "outputs": [
        {
          "output_type": "execute_result",
          "data": {
            "text/plain": [
              "29411"
            ]
          },
          "metadata": {},
          "execution_count": 4
        }
      ]
    },
    {
      "cell_type": "markdown",
      "source": [
        "Now i will be converting  3735928559 to hexadecimal"
      ],
      "metadata": {
        "id": "UhaJjRdrqcWY"
      }
    },
    {
      "cell_type": "code",
      "source": [
        "number = 3735928559\n",
        "x = 0\n",
        "hex = \"\"\n",
        "for k in range(0,8,1):\n",
        "  numd = int(number%16)\n",
        "  number = number - numd\n",
        "  number = number/16\n",
        "  if numd > 9:\n",
        "    if numd == 10: numd = \"A\"\n",
        "    elif numd == 11: numd = \"B\"\n",
        "    elif numd == 12: numd = \"C\"\n",
        "    elif numd == 13: numd = \"D\"\n",
        "    elif numd == 14: numd = \"E\"\n",
        "    elif numd == 15: numd = \"F\"\n",
        "    elif numd == 16: numd = 10\n",
        "    numd = str(numd)\n",
        "  hex = numd+hex\n",
        "print(hex)"
      ],
      "metadata": {
        "colab": {
          "base_uri": "https://localhost:8080/"
        },
        "id": "7giLSGAWqndp",
        "outputId": "b83ce33e-9610-4300-f1f4-bdadd04b9471"
      },
      "execution_count": 5,
      "outputs": [
        {
          "output_type": "stream",
          "name": "stdout",
          "text": [
            "DEADBEEF\n"
          ]
        }
      ]
    },
    {
      "cell_type": "markdown",
      "source": [
        " till now i think it is little harder to write the proper codes for calculation than other."
      ],
      "metadata": {
        "id": "nJFo9uSlq_jA"
      }
    }
  ]
}