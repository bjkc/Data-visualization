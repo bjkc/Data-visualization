{
  "nbformat": 4,
  "nbformat_minor": 0,
  "metadata": {
    "colab": {
      "name": "Untitled27.ipynb",
      "provenance": [],
      "authorship_tag": "ABX9TyOljWVxbDEWmSlGdBhUywnj",
      "include_colab_link": true
    },
    "kernelspec": {
      "name": "python3",
      "display_name": "Python 3"
    },
    "language_info": {
      "name": "python"
    }
  },
  "cells": [
    {
      "cell_type": "markdown",
      "metadata": {
        "id": "view-in-github",
        "colab_type": "text"
      },
      "source": [
        "<a href=\"https://colab.research.google.com/github/bjkc/Data-visualization/blob/main/quiz22.ipynb\" target=\"_parent\"><img src=\"https://colab.research.google.com/assets/colab-badge.svg\" alt=\"Open In Colab\"/></a>"
      ]
    },
    {
      "cell_type": "markdown",
      "source": [
        "#bijay raj kc\n",
        "\n",
        "data visualization\n",
        "\n",
        "quiz 22"
      ],
      "metadata": {
        "id": "_easyF64YKbI"
      }
    },
    {
      "cell_type": "markdown",
      "source": [
        "[Ultrasound Attenuation Spectra for Canola Oil﻿](https://symposium.foragerone.com/okrd22/presentations?please%20select%20your%20institutions=17464&page=2)"
      ],
      "metadata": {
        "id": "0z9EtoATZB-m"
      }
    },
    {
      "cell_type": "markdown",
      "source": [
        "In this situation I think that the visual represents the topic.It can provide important information in the visual this graph provide the important information to whoever is looking"
      ],
      "metadata": {
        "id": "r1-0UdK5aHoW"
      }
    },
    {
      "cell_type": "markdown",
      "source": [
        "[Deep learning & Mathematics](https://symposium.foragerone.com/okrd22/presentations/37722)"
      ],
      "metadata": {
        "id": "5sFBSpKcZLwH"
      }
    },
    {
      "cell_type": "markdown",
      "source": [
        "I think the data and all information are very well explained i think its great because most method displays the graph"
      ],
      "metadata": {
        "id": "DXlo7cWmb7Eo"
      }
    },
    {
      "cell_type": "markdown",
      "source": [
        "[computational study of gaseous boron and aluminum hydroxides](https://symposium.foragerone.com/okrd22/presentations/37696)"
      ],
      "metadata": {
        "id": "wxhEVk8AcpPM"
      }
    },
    {
      "cell_type": "markdown",
      "source": [
        "I think that the diagram isn't sufficiently able to introduce the data that the topic is attempting to tell. In the information diagram assumes important part in passing data. however, for this situation there is less visual of the information however more words."
      ],
      "metadata": {
        "id": "F_azl-KmdDn5"
      }
    }
  ]
}