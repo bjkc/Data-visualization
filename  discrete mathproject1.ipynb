{
  "nbformat": 4,
  "nbformat_minor": 0,
  "metadata": {
    "colab": {
      "name": "Untitled3.ipynb",
      "provenance": [],
      "collapsed_sections": [],
      "authorship_tag": "ABX9TyOPuBa1oJBAKmweoWruikiT",
      "include_colab_link": true
    },
    "kernelspec": {
      "name": "python3",
      "display_name": "Python 3"
    },
    "language_info": {
      "name": "python"
    }
  },
  "cells": [
    {
      "cell_type": "markdown",
      "metadata": {
        "id": "view-in-github",
        "colab_type": "text"
      },
      "source": [
        "<a href=\"https://colab.research.google.com/github/bjkc/Data-visualization/blob/main/%20discrete%20mathproject1.ipynb\" target=\"_parent\"><img src=\"https://colab.research.google.com/assets/colab-badge.svg\" alt=\"Open In Colab\"/></a>"
      ]
    },
    {
      "cell_type": "code",
      "execution_count": null,
      "metadata": {
        "id": "aqUvnClB_a-g"
      },
      "outputs": [],
      "source": [
        ""
      ]
    },
    {
      "cell_type": "markdown",
      "source": [
        "Project Part # : CPSMA 3133 Discrete Mathematics\n",
        "bijay raj kc"
      ],
      "metadata": {
        "id": "OQBwxxh1OISx"
      }
    },
    {
      "cell_type": "markdown",
      "source": [
        "In this project i am doing on WwE wrestlers for this assignment\n",
        "On set A i will be using hall of famer wrestler on set B i will be using NXT wrestler and on set C i will be using Smackdown wrestlers."
      ],
      "metadata": {
        "id": "_Dat22ROBqnZ"
      }
    },
    {
      "cell_type": "markdown",
      "source": [
        "![wwe.jpeg](data:image/jpeg;base64,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)"
      ],
      "metadata": {
        "id": "uL_OmRGJBhjl"
      }
    },
    {
      "cell_type": "code",
      "source": [
        "A = ['Andre the giant', 'bret hart', 'dusty rhodes', 'mr fuji', 'jim ross', 'undertaker', 'william regal']\n",
        "B = ['alexa bliss', 'bray wyatt', 'baron', 'jim ross', 'william regal', 'walter']\n",
        "C = ['undertaker', 'jim ross', 'john cena', 'edge', 'rey mysterio', 'kurt angle']\n",
        "#as a great wrestling fan since a kid i put all the great wwe characters on all three categories.\n"
      ],
      "metadata": {
        "id": "hrQyQJuACwPV"
      },
      "execution_count": 1,
      "outputs": []
    },
    {
      "cell_type": "markdown",
      "source": [
        "i am going to do union and intersaction now"
      ],
      "metadata": {
        "id": "GNvtq67cF_Wy"
      }
    },
    {
      "cell_type": "code",
      "source": [
        "AUB = []\n",
        "for character in A:\n",
        "  AUB.append(character) #Add all characters from A\n",
        "for character in B:\n",
        "  AUB.append(character) # Add all characters from B\n",
        "\n",
        "AUB = set(AUB) #change the list to a set removes duplicates and alphabetize\n",
        "\n",
        "AUB"
      ],
      "metadata": {
        "colab": {
          "base_uri": "https://localhost:8080/"
        },
        "id": "9MtKZaJyGIXs",
        "outputId": "cc15b46b-1b95-42cd-af58-8c2e2bba9153"
      },
      "execution_count": 2,
      "outputs": [
        {
          "output_type": "execute_result",
          "data": {
            "text/plain": [
              "{'Andre the giant',\n",
              " 'alexa bliss',\n",
              " 'baron',\n",
              " 'bray wyatt',\n",
              " 'bret hart',\n",
              " 'dusty rhodes',\n",
              " 'jim ross',\n",
              " 'mr fuji',\n",
              " 'undertaker',\n",
              " 'walter',\n",
              " 'william regal'}"
            ]
          },
          "metadata": {},
          "execution_count": 2
        }
      ]
    },
    {
      "cell_type": "code",
      "source": [
        ""
      ],
      "metadata": {
        "id": "0Fu1RkeXF3pF"
      },
      "execution_count": null,
      "outputs": []
    },
    {
      "cell_type": "markdown",
      "source": [
        "here i used a conditional for intersaction."
      ],
      "metadata": {
        "id": "v4pV0v-SGXsJ"
      }
    },
    {
      "cell_type": "markdown",
      "source": [
        ""
      ],
      "metadata": {
        "id": "1j4-Dr9zE39s"
      }
    },
    {
      "cell_type": "code",
      "source": [
        "ACapB = []\n",
        "for character in A:\n",
        "  if character in B:\n",
        "    ACapB.append(character)\n",
        "\n",
        "ACapB"
      ],
      "metadata": {
        "colab": {
          "base_uri": "https://localhost:8080/"
        },
        "id": "IrwGQPVZGeqp",
        "outputId": "61a61bf3-57b6-461c-fd61-9e84c8ade096"
      },
      "execution_count": 3,
      "outputs": [
        {
          "output_type": "execute_result",
          "data": {
            "text/plain": [
              "['jim ross', 'william regal']"
            ]
          },
          "metadata": {},
          "execution_count": 3
        }
      ]
    },
    {
      "cell_type": "markdown",
      "source": [
        "If I were to make a Universal set , I may do so algorithmically!"
      ],
      "metadata": {
        "id": "RG1AjPexGy4H"
      }
    },
    {
      "cell_type": "code",
      "source": [
        "SetofSets = [A,B,C]\n",
        "U = []\n",
        "for sett in SetofSets:\n",
        "  for character in sett:\n",
        "    U.append(character)\n",
        "\n",
        "set(U)"
      ],
      "metadata": {
        "colab": {
          "base_uri": "https://localhost:8080/"
        },
        "id": "V3LBdl7XG1KD",
        "outputId": "a23d3638-36b3-4b75-fced-c6894ff08f47"
      },
      "execution_count": 4,
      "outputs": [
        {
          "output_type": "execute_result",
          "data": {
            "text/plain": [
              "{'Andre the giant',\n",
              " 'alexa bliss',\n",
              " 'baron',\n",
              " 'bray wyatt',\n",
              " 'bret hart',\n",
              " 'dusty rhodes',\n",
              " 'edge',\n",
              " 'jim ross',\n",
              " 'john cena',\n",
              " 'kurt angle',\n",
              " 'mr fuji',\n",
              " 'rey mysterio',\n",
              " 'undertaker',\n",
              " 'walter',\n",
              " 'william regal'}"
            ]
          },
          "metadata": {},
          "execution_count": 4
        }
      ]
    },
    {
      "cell_type": "code",
      "source": [
        "D = ['undertaker', 'kane', 'big show', 'randy orton', 'jim ross']\n",
        "\n",
        "for character in D:\n",
        "  U.append(character)"
      ],
      "metadata": {
        "id": "JMutjEAvHVol"
      },
      "execution_count": 5,
      "outputs": []
    },
    {
      "cell_type": "markdown",
      "source": [
        "i will also use not in for the compliment"
      ],
      "metadata": {
        "id": "hzwAOzFoH0oU"
      }
    },
    {
      "cell_type": "code",
      "source": [
        "AComplement =[]\n",
        "\n",
        "for character in U:\n",
        "  if character not in A:\n",
        "    AComplement.append(character)\n",
        "\n",
        "AComplement"
      ],
      "metadata": {
        "colab": {
          "base_uri": "https://localhost:8080/"
        },
        "id": "VGuQdyuIH8lv",
        "outputId": "ecdf09a6-6908-4218-d2ea-dee1699d2523"
      },
      "execution_count": 6,
      "outputs": [
        {
          "output_type": "execute_result",
          "data": {
            "text/plain": [
              "['alexa bliss',\n",
              " 'bray wyatt',\n",
              " 'baron',\n",
              " 'walter',\n",
              " 'john cena',\n",
              " 'edge',\n",
              " 'rey mysterio',\n",
              " 'kurt angle',\n",
              " 'kane',\n",
              " 'big show',\n",
              " 'randy orton']"
            ]
          },
          "metadata": {},
          "execution_count": 6
        }
      ]
    },
    {
      "cell_type": "markdown",
      "source": [
        "here somename of the wrestlers are not in smackdown and on nxt so i am going to use the loops to fix that."
      ],
      "metadata": {
        "id": "JqHGtISMIVRN"
      }
    },
    {
      "cell_type": "code",
      "source": [
        "def DPpowerset(s):\n",
        "  powerset = [[]]\n",
        "  for i in s:\n",
        "    for sett in powerset:\n",
        "      powerset = powerset + [sett + [i]]\n",
        "  return powerset"
      ],
      "metadata": {
        "id": "qFBjQnPRIml0"
      },
      "execution_count": 7,
      "outputs": []
    },
    {
      "cell_type": "code",
      "source": [
        "DPpowerset(A)"
      ],
      "metadata": {
        "colab": {
          "base_uri": "https://localhost:8080/"
        },
        "id": "5wVdlAY-Is_s",
        "outputId": "4458b5fd-0c15-47d5-9545-aeadaf24a050"
      },
      "execution_count": 8,
      "outputs": [
        {
          "output_type": "execute_result",
          "data": {
            "text/plain": [
              "[[],\n",
              " ['Andre the giant'],\n",
              " ['bret hart'],\n",
              " ['Andre the giant', 'bret hart'],\n",
              " ['dusty rhodes'],\n",
              " ['Andre the giant', 'dusty rhodes'],\n",
              " ['bret hart', 'dusty rhodes'],\n",
              " ['Andre the giant', 'bret hart', 'dusty rhodes'],\n",
              " ['mr fuji'],\n",
              " ['Andre the giant', 'mr fuji'],\n",
              " ['bret hart', 'mr fuji'],\n",
              " ['Andre the giant', 'bret hart', 'mr fuji'],\n",
              " ['dusty rhodes', 'mr fuji'],\n",
              " ['Andre the giant', 'dusty rhodes', 'mr fuji'],\n",
              " ['bret hart', 'dusty rhodes', 'mr fuji'],\n",
              " ['Andre the giant', 'bret hart', 'dusty rhodes', 'mr fuji'],\n",
              " ['jim ross'],\n",
              " ['Andre the giant', 'jim ross'],\n",
              " ['bret hart', 'jim ross'],\n",
              " ['Andre the giant', 'bret hart', 'jim ross'],\n",
              " ['dusty rhodes', 'jim ross'],\n",
              " ['Andre the giant', 'dusty rhodes', 'jim ross'],\n",
              " ['bret hart', 'dusty rhodes', 'jim ross'],\n",
              " ['Andre the giant', 'bret hart', 'dusty rhodes', 'jim ross'],\n",
              " ['mr fuji', 'jim ross'],\n",
              " ['Andre the giant', 'mr fuji', 'jim ross'],\n",
              " ['bret hart', 'mr fuji', 'jim ross'],\n",
              " ['Andre the giant', 'bret hart', 'mr fuji', 'jim ross'],\n",
              " ['dusty rhodes', 'mr fuji', 'jim ross'],\n",
              " ['Andre the giant', 'dusty rhodes', 'mr fuji', 'jim ross'],\n",
              " ['bret hart', 'dusty rhodes', 'mr fuji', 'jim ross'],\n",
              " ['Andre the giant', 'bret hart', 'dusty rhodes', 'mr fuji', 'jim ross'],\n",
              " ['undertaker'],\n",
              " ['Andre the giant', 'undertaker'],\n",
              " ['bret hart', 'undertaker'],\n",
              " ['Andre the giant', 'bret hart', 'undertaker'],\n",
              " ['dusty rhodes', 'undertaker'],\n",
              " ['Andre the giant', 'dusty rhodes', 'undertaker'],\n",
              " ['bret hart', 'dusty rhodes', 'undertaker'],\n",
              " ['Andre the giant', 'bret hart', 'dusty rhodes', 'undertaker'],\n",
              " ['mr fuji', 'undertaker'],\n",
              " ['Andre the giant', 'mr fuji', 'undertaker'],\n",
              " ['bret hart', 'mr fuji', 'undertaker'],\n",
              " ['Andre the giant', 'bret hart', 'mr fuji', 'undertaker'],\n",
              " ['dusty rhodes', 'mr fuji', 'undertaker'],\n",
              " ['Andre the giant', 'dusty rhodes', 'mr fuji', 'undertaker'],\n",
              " ['bret hart', 'dusty rhodes', 'mr fuji', 'undertaker'],\n",
              " ['Andre the giant', 'bret hart', 'dusty rhodes', 'mr fuji', 'undertaker'],\n",
              " ['jim ross', 'undertaker'],\n",
              " ['Andre the giant', 'jim ross', 'undertaker'],\n",
              " ['bret hart', 'jim ross', 'undertaker'],\n",
              " ['Andre the giant', 'bret hart', 'jim ross', 'undertaker'],\n",
              " ['dusty rhodes', 'jim ross', 'undertaker'],\n",
              " ['Andre the giant', 'dusty rhodes', 'jim ross', 'undertaker'],\n",
              " ['bret hart', 'dusty rhodes', 'jim ross', 'undertaker'],\n",
              " ['Andre the giant', 'bret hart', 'dusty rhodes', 'jim ross', 'undertaker'],\n",
              " ['mr fuji', 'jim ross', 'undertaker'],\n",
              " ['Andre the giant', 'mr fuji', 'jim ross', 'undertaker'],\n",
              " ['bret hart', 'mr fuji', 'jim ross', 'undertaker'],\n",
              " ['Andre the giant', 'bret hart', 'mr fuji', 'jim ross', 'undertaker'],\n",
              " ['dusty rhodes', 'mr fuji', 'jim ross', 'undertaker'],\n",
              " ['Andre the giant', 'dusty rhodes', 'mr fuji', 'jim ross', 'undertaker'],\n",
              " ['bret hart', 'dusty rhodes', 'mr fuji', 'jim ross', 'undertaker'],\n",
              " ['Andre the giant',\n",
              "  'bret hart',\n",
              "  'dusty rhodes',\n",
              "  'mr fuji',\n",
              "  'jim ross',\n",
              "  'undertaker'],\n",
              " ['william regal'],\n",
              " ['Andre the giant', 'william regal'],\n",
              " ['bret hart', 'william regal'],\n",
              " ['Andre the giant', 'bret hart', 'william regal'],\n",
              " ['dusty rhodes', 'william regal'],\n",
              " ['Andre the giant', 'dusty rhodes', 'william regal'],\n",
              " ['bret hart', 'dusty rhodes', 'william regal'],\n",
              " ['Andre the giant', 'bret hart', 'dusty rhodes', 'william regal'],\n",
              " ['mr fuji', 'william regal'],\n",
              " ['Andre the giant', 'mr fuji', 'william regal'],\n",
              " ['bret hart', 'mr fuji', 'william regal'],\n",
              " ['Andre the giant', 'bret hart', 'mr fuji', 'william regal'],\n",
              " ['dusty rhodes', 'mr fuji', 'william regal'],\n",
              " ['Andre the giant', 'dusty rhodes', 'mr fuji', 'william regal'],\n",
              " ['bret hart', 'dusty rhodes', 'mr fuji', 'william regal'],\n",
              " ['Andre the giant', 'bret hart', 'dusty rhodes', 'mr fuji', 'william regal'],\n",
              " ['jim ross', 'william regal'],\n",
              " ['Andre the giant', 'jim ross', 'william regal'],\n",
              " ['bret hart', 'jim ross', 'william regal'],\n",
              " ['Andre the giant', 'bret hart', 'jim ross', 'william regal'],\n",
              " ['dusty rhodes', 'jim ross', 'william regal'],\n",
              " ['Andre the giant', 'dusty rhodes', 'jim ross', 'william regal'],\n",
              " ['bret hart', 'dusty rhodes', 'jim ross', 'william regal'],\n",
              " ['Andre the giant', 'bret hart', 'dusty rhodes', 'jim ross', 'william regal'],\n",
              " ['mr fuji', 'jim ross', 'william regal'],\n",
              " ['Andre the giant', 'mr fuji', 'jim ross', 'william regal'],\n",
              " ['bret hart', 'mr fuji', 'jim ross', 'william regal'],\n",
              " ['Andre the giant', 'bret hart', 'mr fuji', 'jim ross', 'william regal'],\n",
              " ['dusty rhodes', 'mr fuji', 'jim ross', 'william regal'],\n",
              " ['Andre the giant', 'dusty rhodes', 'mr fuji', 'jim ross', 'william regal'],\n",
              " ['bret hart', 'dusty rhodes', 'mr fuji', 'jim ross', 'william regal'],\n",
              " ['Andre the giant',\n",
              "  'bret hart',\n",
              "  'dusty rhodes',\n",
              "  'mr fuji',\n",
              "  'jim ross',\n",
              "  'william regal'],\n",
              " ['undertaker', 'william regal'],\n",
              " ['Andre the giant', 'undertaker', 'william regal'],\n",
              " ['bret hart', 'undertaker', 'william regal'],\n",
              " ['Andre the giant', 'bret hart', 'undertaker', 'william regal'],\n",
              " ['dusty rhodes', 'undertaker', 'william regal'],\n",
              " ['Andre the giant', 'dusty rhodes', 'undertaker', 'william regal'],\n",
              " ['bret hart', 'dusty rhodes', 'undertaker', 'william regal'],\n",
              " ['Andre the giant',\n",
              "  'bret hart',\n",
              "  'dusty rhodes',\n",
              "  'undertaker',\n",
              "  'william regal'],\n",
              " ['mr fuji', 'undertaker', 'william regal'],\n",
              " ['Andre the giant', 'mr fuji', 'undertaker', 'william regal'],\n",
              " ['bret hart', 'mr fuji', 'undertaker', 'william regal'],\n",
              " ['Andre the giant', 'bret hart', 'mr fuji', 'undertaker', 'william regal'],\n",
              " ['dusty rhodes', 'mr fuji', 'undertaker', 'william regal'],\n",
              " ['Andre the giant', 'dusty rhodes', 'mr fuji', 'undertaker', 'william regal'],\n",
              " ['bret hart', 'dusty rhodes', 'mr fuji', 'undertaker', 'william regal'],\n",
              " ['Andre the giant',\n",
              "  'bret hart',\n",
              "  'dusty rhodes',\n",
              "  'mr fuji',\n",
              "  'undertaker',\n",
              "  'william regal'],\n",
              " ['jim ross', 'undertaker', 'william regal'],\n",
              " ['Andre the giant', 'jim ross', 'undertaker', 'william regal'],\n",
              " ['bret hart', 'jim ross', 'undertaker', 'william regal'],\n",
              " ['Andre the giant', 'bret hart', 'jim ross', 'undertaker', 'william regal'],\n",
              " ['dusty rhodes', 'jim ross', 'undertaker', 'william regal'],\n",
              " ['Andre the giant',\n",
              "  'dusty rhodes',\n",
              "  'jim ross',\n",
              "  'undertaker',\n",
              "  'william regal'],\n",
              " ['bret hart', 'dusty rhodes', 'jim ross', 'undertaker', 'william regal'],\n",
              " ['Andre the giant',\n",
              "  'bret hart',\n",
              "  'dusty rhodes',\n",
              "  'jim ross',\n",
              "  'undertaker',\n",
              "  'william regal'],\n",
              " ['mr fuji', 'jim ross', 'undertaker', 'william regal'],\n",
              " ['Andre the giant', 'mr fuji', 'jim ross', 'undertaker', 'william regal'],\n",
              " ['bret hart', 'mr fuji', 'jim ross', 'undertaker', 'william regal'],\n",
              " ['Andre the giant',\n",
              "  'bret hart',\n",
              "  'mr fuji',\n",
              "  'jim ross',\n",
              "  'undertaker',\n",
              "  'william regal'],\n",
              " ['dusty rhodes', 'mr fuji', 'jim ross', 'undertaker', 'william regal'],\n",
              " ['Andre the giant',\n",
              "  'dusty rhodes',\n",
              "  'mr fuji',\n",
              "  'jim ross',\n",
              "  'undertaker',\n",
              "  'william regal'],\n",
              " ['bret hart',\n",
              "  'dusty rhodes',\n",
              "  'mr fuji',\n",
              "  'jim ross',\n",
              "  'undertaker',\n",
              "  'william regal'],\n",
              " ['Andre the giant',\n",
              "  'bret hart',\n",
              "  'dusty rhodes',\n",
              "  'mr fuji',\n",
              "  'jim ross',\n",
              "  'undertaker',\n",
              "  'william regal']]"
            ]
          },
          "metadata": {},
          "execution_count": 8
        }
      ]
    },
    {
      "cell_type": "markdown",
      "source": [
        "Now i am going to do powersets with stackoverflow help"
      ],
      "metadata": {
        "id": "NpujiTwKJPZA"
      }
    },
    {
      "cell_type": "code",
      "source": [
        "def powerset(s):\n",
        "    x = len(s)\n",
        "    masks = [2**i for i in range(x)]\n",
        "    for i in range(2**x):\n",
        "        yield [ss for mask, ss in zip(masks, s) if i & mask]\n",
        "\n",
        "print(list(powerset(A)))"
      ],
      "metadata": {
        "colab": {
          "base_uri": "https://localhost:8080/"
        },
        "id": "lvlIfgi0Jjfr",
        "outputId": "b267f912-8206-4261-df35-59156e7dbcce"
      },
      "execution_count": 9,
      "outputs": [
        {
          "output_type": "stream",
          "name": "stdout",
          "text": [
            "[[], ['Andre the giant'], ['bret hart'], ['Andre the giant', 'bret hart'], ['dusty rhodes'], ['Andre the giant', 'dusty rhodes'], ['bret hart', 'dusty rhodes'], ['Andre the giant', 'bret hart', 'dusty rhodes'], ['mr fuji'], ['Andre the giant', 'mr fuji'], ['bret hart', 'mr fuji'], ['Andre the giant', 'bret hart', 'mr fuji'], ['dusty rhodes', 'mr fuji'], ['Andre the giant', 'dusty rhodes', 'mr fuji'], ['bret hart', 'dusty rhodes', 'mr fuji'], ['Andre the giant', 'bret hart', 'dusty rhodes', 'mr fuji'], ['jim ross'], ['Andre the giant', 'jim ross'], ['bret hart', 'jim ross'], ['Andre the giant', 'bret hart', 'jim ross'], ['dusty rhodes', 'jim ross'], ['Andre the giant', 'dusty rhodes', 'jim ross'], ['bret hart', 'dusty rhodes', 'jim ross'], ['Andre the giant', 'bret hart', 'dusty rhodes', 'jim ross'], ['mr fuji', 'jim ross'], ['Andre the giant', 'mr fuji', 'jim ross'], ['bret hart', 'mr fuji', 'jim ross'], ['Andre the giant', 'bret hart', 'mr fuji', 'jim ross'], ['dusty rhodes', 'mr fuji', 'jim ross'], ['Andre the giant', 'dusty rhodes', 'mr fuji', 'jim ross'], ['bret hart', 'dusty rhodes', 'mr fuji', 'jim ross'], ['Andre the giant', 'bret hart', 'dusty rhodes', 'mr fuji', 'jim ross'], ['undertaker'], ['Andre the giant', 'undertaker'], ['bret hart', 'undertaker'], ['Andre the giant', 'bret hart', 'undertaker'], ['dusty rhodes', 'undertaker'], ['Andre the giant', 'dusty rhodes', 'undertaker'], ['bret hart', 'dusty rhodes', 'undertaker'], ['Andre the giant', 'bret hart', 'dusty rhodes', 'undertaker'], ['mr fuji', 'undertaker'], ['Andre the giant', 'mr fuji', 'undertaker'], ['bret hart', 'mr fuji', 'undertaker'], ['Andre the giant', 'bret hart', 'mr fuji', 'undertaker'], ['dusty rhodes', 'mr fuji', 'undertaker'], ['Andre the giant', 'dusty rhodes', 'mr fuji', 'undertaker'], ['bret hart', 'dusty rhodes', 'mr fuji', 'undertaker'], ['Andre the giant', 'bret hart', 'dusty rhodes', 'mr fuji', 'undertaker'], ['jim ross', 'undertaker'], ['Andre the giant', 'jim ross', 'undertaker'], ['bret hart', 'jim ross', 'undertaker'], ['Andre the giant', 'bret hart', 'jim ross', 'undertaker'], ['dusty rhodes', 'jim ross', 'undertaker'], ['Andre the giant', 'dusty rhodes', 'jim ross', 'undertaker'], ['bret hart', 'dusty rhodes', 'jim ross', 'undertaker'], ['Andre the giant', 'bret hart', 'dusty rhodes', 'jim ross', 'undertaker'], ['mr fuji', 'jim ross', 'undertaker'], ['Andre the giant', 'mr fuji', 'jim ross', 'undertaker'], ['bret hart', 'mr fuji', 'jim ross', 'undertaker'], ['Andre the giant', 'bret hart', 'mr fuji', 'jim ross', 'undertaker'], ['dusty rhodes', 'mr fuji', 'jim ross', 'undertaker'], ['Andre the giant', 'dusty rhodes', 'mr fuji', 'jim ross', 'undertaker'], ['bret hart', 'dusty rhodes', 'mr fuji', 'jim ross', 'undertaker'], ['Andre the giant', 'bret hart', 'dusty rhodes', 'mr fuji', 'jim ross', 'undertaker'], ['william regal'], ['Andre the giant', 'william regal'], ['bret hart', 'william regal'], ['Andre the giant', 'bret hart', 'william regal'], ['dusty rhodes', 'william regal'], ['Andre the giant', 'dusty rhodes', 'william regal'], ['bret hart', 'dusty rhodes', 'william regal'], ['Andre the giant', 'bret hart', 'dusty rhodes', 'william regal'], ['mr fuji', 'william regal'], ['Andre the giant', 'mr fuji', 'william regal'], ['bret hart', 'mr fuji', 'william regal'], ['Andre the giant', 'bret hart', 'mr fuji', 'william regal'], ['dusty rhodes', 'mr fuji', 'william regal'], ['Andre the giant', 'dusty rhodes', 'mr fuji', 'william regal'], ['bret hart', 'dusty rhodes', 'mr fuji', 'william regal'], ['Andre the giant', 'bret hart', 'dusty rhodes', 'mr fuji', 'william regal'], ['jim ross', 'william regal'], ['Andre the giant', 'jim ross', 'william regal'], ['bret hart', 'jim ross', 'william regal'], ['Andre the giant', 'bret hart', 'jim ross', 'william regal'], ['dusty rhodes', 'jim ross', 'william regal'], ['Andre the giant', 'dusty rhodes', 'jim ross', 'william regal'], ['bret hart', 'dusty rhodes', 'jim ross', 'william regal'], ['Andre the giant', 'bret hart', 'dusty rhodes', 'jim ross', 'william regal'], ['mr fuji', 'jim ross', 'william regal'], ['Andre the giant', 'mr fuji', 'jim ross', 'william regal'], ['bret hart', 'mr fuji', 'jim ross', 'william regal'], ['Andre the giant', 'bret hart', 'mr fuji', 'jim ross', 'william regal'], ['dusty rhodes', 'mr fuji', 'jim ross', 'william regal'], ['Andre the giant', 'dusty rhodes', 'mr fuji', 'jim ross', 'william regal'], ['bret hart', 'dusty rhodes', 'mr fuji', 'jim ross', 'william regal'], ['Andre the giant', 'bret hart', 'dusty rhodes', 'mr fuji', 'jim ross', 'william regal'], ['undertaker', 'william regal'], ['Andre the giant', 'undertaker', 'william regal'], ['bret hart', 'undertaker', 'william regal'], ['Andre the giant', 'bret hart', 'undertaker', 'william regal'], ['dusty rhodes', 'undertaker', 'william regal'], ['Andre the giant', 'dusty rhodes', 'undertaker', 'william regal'], ['bret hart', 'dusty rhodes', 'undertaker', 'william regal'], ['Andre the giant', 'bret hart', 'dusty rhodes', 'undertaker', 'william regal'], ['mr fuji', 'undertaker', 'william regal'], ['Andre the giant', 'mr fuji', 'undertaker', 'william regal'], ['bret hart', 'mr fuji', 'undertaker', 'william regal'], ['Andre the giant', 'bret hart', 'mr fuji', 'undertaker', 'william regal'], ['dusty rhodes', 'mr fuji', 'undertaker', 'william regal'], ['Andre the giant', 'dusty rhodes', 'mr fuji', 'undertaker', 'william regal'], ['bret hart', 'dusty rhodes', 'mr fuji', 'undertaker', 'william regal'], ['Andre the giant', 'bret hart', 'dusty rhodes', 'mr fuji', 'undertaker', 'william regal'], ['jim ross', 'undertaker', 'william regal'], ['Andre the giant', 'jim ross', 'undertaker', 'william regal'], ['bret hart', 'jim ross', 'undertaker', 'william regal'], ['Andre the giant', 'bret hart', 'jim ross', 'undertaker', 'william regal'], ['dusty rhodes', 'jim ross', 'undertaker', 'william regal'], ['Andre the giant', 'dusty rhodes', 'jim ross', 'undertaker', 'william regal'], ['bret hart', 'dusty rhodes', 'jim ross', 'undertaker', 'william regal'], ['Andre the giant', 'bret hart', 'dusty rhodes', 'jim ross', 'undertaker', 'william regal'], ['mr fuji', 'jim ross', 'undertaker', 'william regal'], ['Andre the giant', 'mr fuji', 'jim ross', 'undertaker', 'william regal'], ['bret hart', 'mr fuji', 'jim ross', 'undertaker', 'william regal'], ['Andre the giant', 'bret hart', 'mr fuji', 'jim ross', 'undertaker', 'william regal'], ['dusty rhodes', 'mr fuji', 'jim ross', 'undertaker', 'william regal'], ['Andre the giant', 'dusty rhodes', 'mr fuji', 'jim ross', 'undertaker', 'william regal'], ['bret hart', 'dusty rhodes', 'mr fuji', 'jim ross', 'undertaker', 'william regal'], ['Andre the giant', 'bret hart', 'dusty rhodes', 'mr fuji', 'jim ross', 'undertaker', 'william regal']]\n"
          ]
        }
      ]
    },
    {
      "cell_type": "code",
      "source": [
        "def IsASubset(A,B):\n",
        "  for a in A:\n",
        "    if a not in B:\n",
        "      return False\n",
        "  return True\n",
        "\n",
        "IsASubset(A,U)"
      ],
      "metadata": {
        "colab": {
          "base_uri": "https://localhost:8080/"
        },
        "id": "xillcpI6Jxp0",
        "outputId": "74c503a7-4a3a-4b1f-b193-e35b5c615296"
      },
      "execution_count": 10,
      "outputs": [
        {
          "output_type": "execute_result",
          "data": {
            "text/plain": [
              "True"
            ]
          },
          "metadata": {},
          "execution_count": 10
        }
      ]
    },
    {
      "cell_type": "markdown",
      "source": [
        "it said true means a isnot in b and not a subset"
      ],
      "metadata": {
        "id": "wkX7LLBMJ-4s"
      }
    },
    {
      "cell_type": "code",
      "source": [
        "import math\n",
        "import numpy as np\n",
        "\n",
        "def gaussian(x):\n",
        "  return 1/math.sqrt(2*math.pi)*np.e**(-x**2/2)"
      ],
      "metadata": {
        "id": "ftxZGZvhKQPY"
      },
      "execution_count": 11,
      "outputs": []
    },
    {
      "cell_type": "code",
      "source": [
        "gaussian(3)"
      ],
      "metadata": {
        "colab": {
          "base_uri": "https://localhost:8080/"
        },
        "id": "2pnTWgAmKUYQ",
        "outputId": "69fe6033-125d-4af8-adfe-8747512547d4"
      },
      "execution_count": 14,
      "outputs": [
        {
          "output_type": "execute_result",
          "data": {
            "text/plain": [
              "0.004431848411938008"
            ]
          },
          "metadata": {},
          "execution_count": 14
        }
      ]
    },
    {
      "cell_type": "code",
      "source": [
        "import matplotlib.pyplot as plt\n",
        "\n",
        "x = np.arange(-4,4,.1)\n",
        "\n",
        "plt.plot(x,gaussian(x))"
      ],
      "metadata": {
        "colab": {
          "base_uri": "https://localhost:8080/",
          "height": 282
        },
        "id": "I6tH-mNQKhU4",
        "outputId": "0cf29399-de5f-4648-95c9-6081822acc67"
      },
      "execution_count": 15,
      "outputs": [
        {
          "output_type": "execute_result",
          "data": {
            "text/plain": [
              "[<matplotlib.lines.Line2D at 0x7f0088a98350>]"
            ]
          },
          "metadata": {},
          "execution_count": 15
        },
        {
          "output_type": "display_data",
          "data": {
            "image/png": "[encoded data removed]",
            "text/plain": [
              "<Figure size 432x288 with 1 Axes>"
            ]
          },
          "metadata": {
            "needs_background": "light"
          }
        }
      ]
    },
    {
      "cell_type": "code",
      "source": [
        "A = ['undertaker', 'big show', 'jim ross', 'triple h', 'edge', 'batista', 'goldberg']\n",
        "B = ['jim ross', 'bray watt', 'golddust', 'cm punk', 'edge', 'batista']\n",
        "\n",
        "dictionary = dict({a:b for a,b in zip(A, B)})"
      ],
      "metadata": {
        "id": "btbv89Q6LE4d"
      },
      "execution_count": 16,
      "outputs": []
    },
    {
      "cell_type": "code",
      "source": [
        "dictionary"
      ],
      "metadata": {
        "colab": {
          "base_uri": "https://localhost:8080/"
        },
        "id": "pMQckiqLLqK2",
        "outputId": "87bf7fc4-9c97-4520-ce65-99affd261e9f"
      },
      "execution_count": 17,
      "outputs": [
        {
          "output_type": "execute_result",
          "data": {
            "text/plain": [
              "{'batista': 'batista',\n",
              " 'big show': 'bray watt',\n",
              " 'edge': 'edge',\n",
              " 'jim ross': 'golddust',\n",
              " 'triple h': 'cm punk',\n",
              " 'undertaker': 'jim ross'}"
            ]
          },
          "metadata": {},
          "execution_count": 17
        }
      ]
    },
    {
      "cell_type": "code",
      "source": [
        "actualDictionary = dict({'undertaker':'jim ross','edge':'batista','bray watt':'big show'})\n"
      ],
      "metadata": {
        "id": "BtwP7MnSLyjv"
      },
      "execution_count": 18,
      "outputs": []
    },
    {
      "cell_type": "code",
      "source": [
        "newList = [actualDictionary.get(x,x) for x in C ]"
      ],
      "metadata": {
        "id": "ZjzJIqxlMEgX"
      },
      "execution_count": 19,
      "outputs": []
    },
    {
      "cell_type": "code",
      "source": [
        "newList #no changes happened here!"
      ],
      "metadata": {
        "colab": {
          "base_uri": "https://localhost:8080/"
        },
        "id": "nJE4VkXSMJMi",
        "outputId": "20045a81-2170-44a1-fa71-9cd528a26382"
      },
      "execution_count": 20,
      "outputs": [
        {
          "output_type": "execute_result",
          "data": {
            "text/plain": [
              "['jim ross', 'jim ross', 'john cena', 'batista', 'rey mysterio', 'kurt angle']"
            ]
          },
          "metadata": {},
          "execution_count": 20
        }
      ]
    },
    {
      "cell_type": "code",
      "source": [
        "newlist2 = [actualDictionary.get(x,x) for x in A]"
      ],
      "metadata": {
        "id": "R_eL9J3UMPMh"
      },
      "execution_count": 21,
      "outputs": []
    },
    {
      "cell_type": "code",
      "source": [
        "newlist2"
      ],
      "metadata": {
        "colab": {
          "base_uri": "https://localhost:8080/"
        },
        "id": "PFHV0N3MMTS6",
        "outputId": "5453b68e-e2b7-4fb4-8987-dc3d2aa7f055"
      },
      "execution_count": 22,
      "outputs": [
        {
          "output_type": "execute_result",
          "data": {
            "text/plain": [
              "['jim ross',\n",
              " 'big show',\n",
              " 'jim ross',\n",
              " 'triple h',\n",
              " 'batista',\n",
              " 'batista',\n",
              " 'goldberg']"
            ]
          },
          "metadata": {},
          "execution_count": 22
        }
      ]
    },
    {
      "cell_type": "code",
      "source": [
        ""
      ],
      "metadata": {
        "id": "htDR-9dLMbAQ"
      },
      "execution_count": null,
      "outputs": []
    },
    {
      "cell_type": "markdown",
      "source": [
        "it have brought some changes at the end also  It is transitive because there is no counter example!"
      ],
      "metadata": {
        "id": "-099pT9pMcK9"
      }
    },
    {
      "cell_type": "markdown",
      "source": [
        ""
      ],
      "metadata": {
        "id": "1KaN7tIhOGy-"
      }
    }
  ]
}